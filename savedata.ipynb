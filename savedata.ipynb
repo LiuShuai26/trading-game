{
 "cells": [
  {
   "cell_type": "code",
   "execution_count": 1,
   "metadata": {},
   "outputs": [
    {
     "name": "stdout",
     "output_type": "stream",
     "text": [
      "/home/shuai/trading-game\n"
     ]
    }
   ],
   "source": [
    "%cd trading-game/rl_game/game"
   ]
  },
  {
   "cell_type": "code",
   "execution_count": 2,
   "metadata": {},
   "outputs": [],
   "source": [
    "import numpy as np\n",
    "import pandas as pd\n",
    "import json\n",
    "\n",
    "pd.set_option('display.max_columns', None)"
   ]
  },
  {
   "cell_type": "code",
   "execution_count": 7,
   "metadata": {},
   "outputs": [],
   "source": [
    "import ctypes\n",
    "\n",
    "soFile = \"./game.so\"\n",
    "expso = ctypes.cdll.LoadLibrary(soFile)"
   ]
  },
  {
   "cell_type": "code",
   "execution_count": 8,
   "metadata": {},
   "outputs": [],
   "source": [
    "info_names = [\n",
    "    \"Done\",\n",
    "    \"LastPrice\",\n",
    "    \"BidPrice1\",\n",
    "    \"BidVolume1\",\n",
    "    \"AskPrice1\",\n",
    "    \"AskVolume1\",\n",
    "    \"BidPrice2\",\n",
    "    \"BidVolume2\",\n",
    "    \"AskPrice2\",\n",
    "    \"AskVolume2\",\n",
    "    \"BidPrice3\",\n",
    "    \"BidVolume3\",\n",
    "    \"AskPrice3\",\n",
    "    \"AskVolume3\",\n",
    "    \"BidPrice4\",\n",
    "    \"BidVolume4\",\n",
    "    \"AskPrice4\",\n",
    "    \"AskVolume4\",\n",
    "    \"BidPrice5\",\n",
    "    \"BidVolume5\",\n",
    "    \"AskPrice5\",\n",
    "    \"AskVolume5\",\n",
    "    \"Volume\",\n",
    "    \"HighestPrice\",\n",
    "    \"LowestPrice\",\n",
    "    \"TradingDay\",\n",
    "    \"Target_Num\",\n",
    "    \"Actual_Num\",\n",
    "    \"AliveBidPrice1\",\n",
    "    \"AliveBidVolume1\",\n",
    "    \"AliveBidPrice2\",\n",
    "    \"AliveBidVolume2\",\n",
    "    \"AliveBidPrice3\",\n",
    "    \"AliveBidVolume3\",\n",
    "    \"AliveAskPrice1\",\n",
    "    \"AliveAskVolume1\",\n",
    "    \"AliveAskPrice2\",\n",
    "    \"AliveAskVolume2\",\n",
    "    \"AliveAskPrice3\",\n",
    "    \"AliveAskVolume3\",\n",
    "    \"score\",\n",
    "    \"profit\",\n",
    "    \"total_profit\",\n",
    "    \"action\",\n",
    "    \"reward\"\n",
    "]"
   ]
  },
  {
   "cell_type": "code",
   "execution_count": 21,
   "metadata": {},
   "outputs": [
    {
     "name": "stdout",
     "output_type": "stream",
     "text": [
      "41 225016\n",
      "42 225016\n",
      "43 225016\n",
      "44 225016\n",
      "45 192623\n",
      "46 225018\n",
      "47 247995\n",
      "48 225016\n",
      "49 225016\n",
      "50 225016\n",
      "51 225016\n",
      "52 225018\n",
      "53 99198\n",
      "54 225018\n",
      "55 225016\n",
      "56 225016\n",
      "57 225016\n",
      "58 225016\n",
      "59 99006\n",
      "60 225016\n",
      "61 225018\n",
      "62 99010\n",
      "4563112\n"
     ]
    }
   ],
   "source": [
    "\n",
    "all_data = []\n",
    "\n",
    "for start_day in range(1, 63):\n",
    "\n",
    "    arr_len = 100\n",
    "    arr1 = ctypes.c_int * arr_len\n",
    "    arr = ctypes.c_int * 1\n",
    "    \n",
    "    actions = arr1()\n",
    "    action_len = arr()\n",
    "    infos = arr1()\n",
    "    infos_len = arr()\n",
    "    rewards = arr1()\n",
    "    rewards_len = arr()\n",
    "    \n",
    "    start_info = {\"date_index\": f\"{start_day} - {start_day}\", \"skip_steps\": 0}\n",
    "    ctx = expso.CreateContext(json.dumps(start_info).encode())\n",
    "    \n",
    "    step = 1\n",
    "    while True:\n",
    "        \n",
    "        expso.GetInfo(ctx, infos, infos_len)\n",
    "        expso.GetReward(ctx, rewards, rewards_len)\n",
    "        \n",
    "        info_dict = {}\n",
    "        for i in range(40):\n",
    "            info_dict[info_names[i]] = infos[i]\n",
    "        for i in range(3):\n",
    "            info_dict[info_names[i+40]] = rewards[i]\n",
    "        all_data.append(info_dict)\n",
    "        \n",
    "        done = infos[0]\n",
    "        if done == 1:\n",
    "            print(infos[25], step)\n",
    "            expso.ReleaseContext(ctx)\n",
    "            break\n",
    "        expso.Step(ctx)\n",
    "        step += 1\n",
    "print(len(all_data))\n",
    "all_data_df = pd.DataFrame(all_data)"
   ]
  },
  {
   "cell_type": "code",
   "execution_count": 23,
   "metadata": {},
   "outputs": [
    {
     "name": "stdout",
     "output_type": "stream",
     "text": [
      "<class 'pandas.core.frame.DataFrame'>\n",
      "RangeIndex: 4563112 entries, 0 to 4563111\n",
      "Data columns (total 43 columns):\n",
      " #   Column           Dtype\n",
      "---  ------           -----\n",
      " 0   Done             int64\n",
      " 1   LastPrice        int64\n",
      " 2   BidPrice1        int64\n",
      " 3   BidVolume1       int64\n",
      " 4   AskPrice1        int64\n",
      " 5   AskVolume1       int64\n",
      " 6   BidPrice2        int64\n",
      " 7   BidVolume2       int64\n",
      " 8   AskPrice2        int64\n",
      " 9   AskVolume2       int64\n",
      " 10  BidPrice3        int64\n",
      " 11  BidVolume3       int64\n",
      " 12  AskPrice3        int64\n",
      " 13  AskVolume3       int64\n",
      " 14  BidPrice4        int64\n",
      " 15  BidVolume4       int64\n",
      " 16  AskPrice4        int64\n",
      " 17  AskVolume4       int64\n",
      " 18  BidPrice5        int64\n",
      " 19  BidVolume5       int64\n",
      " 20  AskPrice5        int64\n",
      " 21  AskVolume5       int64\n",
      " 22  Volume           int64\n",
      " 23  HighestPrice     int64\n",
      " 24  LowestPrice      int64\n",
      " 25  TradingDay       int64\n",
      " 26  Target_Num       int64\n",
      " 27  Actual_Num       int64\n",
      " 28  AliveBidPrice1   int64\n",
      " 29  AliveBidVolume1  int64\n",
      " 30  AliveBidPrice2   int64\n",
      " 31  AliveBidVolume2  int64\n",
      " 32  AliveBidPrice3   int64\n",
      " 33  AliveBidVolume3  int64\n",
      " 34  AliveAskPrice1   int64\n",
      " 35  AliveAskVolume1  int64\n",
      " 36  AliveAskPrice2   int64\n",
      " 37  AliveAskVolume2  int64\n",
      " 38  AliveAskPrice3   int64\n",
      " 39  AliveAskVolume3  int64\n",
      " 40  score            int64\n",
      " 41  profit           int64\n",
      " 42  total_profit     int64\n",
      "dtypes: int64(43)\n",
      "memory usage: 1.5 GB\n"
     ]
    }
   ],
   "source": [
    "all_data_df.info()"
   ]
  },
  {
   "cell_type": "code",
   "execution_count": 24,
   "metadata": {},
   "outputs": [],
   "source": [
    "all_data_df.to_csv(\"/home/shuai/day_1-62.csv\", index = None)"
   ]
  },
  {
   "cell_type": "code",
   "execution_count": 3,
   "metadata": {},
   "outputs": [],
   "source": [
    "day_1_62 = pd.read_csv(\"/home/shuai/day_1-62.csv\")"
   ]
  },
  {
   "cell_type": "code",
   "execution_count": 5,
   "metadata": {},
   "outputs": [
    {
     "ename": "KeyError",
     "evalue": "'score'",
     "output_type": "error",
     "traceback": [
      "\u001b[0;31m---------------------------------------------------------------------------\u001b[0m",
      "\u001b[0;31mKeyError\u001b[0m                                  Traceback (most recent call last)",
      "\u001b[0;32m~/.local/lib/python3.7/site-packages/pandas/core/indexes/base.py\u001b[0m in \u001b[0;36mget_loc\u001b[0;34m(self, key, method, tolerance)\u001b[0m\n\u001b[1;32m   2645\u001b[0m             \u001b[0;32mtry\u001b[0m\u001b[0;34m:\u001b[0m\u001b[0;34m\u001b[0m\u001b[0;34m\u001b[0m\u001b[0m\n\u001b[0;32m-> 2646\u001b[0;31m                 \u001b[0;32mreturn\u001b[0m \u001b[0mself\u001b[0m\u001b[0;34m.\u001b[0m\u001b[0m_engine\u001b[0m\u001b[0;34m.\u001b[0m\u001b[0mget_loc\u001b[0m\u001b[0;34m(\u001b[0m\u001b[0mkey\u001b[0m\u001b[0;34m)\u001b[0m\u001b[0;34m\u001b[0m\u001b[0;34m\u001b[0m\u001b[0m\n\u001b[0m\u001b[1;32m   2647\u001b[0m             \u001b[0;32mexcept\u001b[0m \u001b[0mKeyError\u001b[0m\u001b[0;34m:\u001b[0m\u001b[0;34m\u001b[0m\u001b[0;34m\u001b[0m\u001b[0m\n",
      "\u001b[0;32mpandas/_libs/index.pyx\u001b[0m in \u001b[0;36mpandas._libs.index.IndexEngine.get_loc\u001b[0;34m()\u001b[0m\n",
      "\u001b[0;32mpandas/_libs/index.pyx\u001b[0m in \u001b[0;36mpandas._libs.index.IndexEngine.get_loc\u001b[0;34m()\u001b[0m\n",
      "\u001b[0;32mpandas/_libs/hashtable_class_helper.pxi\u001b[0m in \u001b[0;36mpandas._libs.hashtable.PyObjectHashTable.get_item\u001b[0;34m()\u001b[0m\n",
      "\u001b[0;32mpandas/_libs/hashtable_class_helper.pxi\u001b[0m in \u001b[0;36mpandas._libs.hashtable.PyObjectHashTable.get_item\u001b[0;34m()\u001b[0m\n",
      "\u001b[0;31mKeyError\u001b[0m: 'score'",
      "\nDuring handling of the above exception, another exception occurred:\n",
      "\u001b[0;31mKeyError\u001b[0m                                  Traceback (most recent call last)",
      "\u001b[0;32m<ipython-input-5-2b39ab80dc62>\u001b[0m in \u001b[0;36m<module>\u001b[0;34m\u001b[0m\n\u001b[0;32m----> 1\u001b[0;31m \u001b[0mday_1_62\u001b[0m\u001b[0;34m[\u001b[0m\u001b[0;34m\"score\"\u001b[0m\u001b[0;34m]\u001b[0m\u001b[0;34m\u001b[0m\u001b[0;34m\u001b[0m\u001b[0m\n\u001b[0m",
      "\u001b[0;32m~/.local/lib/python3.7/site-packages/pandas/core/frame.py\u001b[0m in \u001b[0;36m__getitem__\u001b[0;34m(self, key)\u001b[0m\n\u001b[1;32m   2798\u001b[0m             \u001b[0;32mif\u001b[0m \u001b[0mself\u001b[0m\u001b[0;34m.\u001b[0m\u001b[0mcolumns\u001b[0m\u001b[0;34m.\u001b[0m\u001b[0mnlevels\u001b[0m \u001b[0;34m>\u001b[0m \u001b[0;36m1\u001b[0m\u001b[0;34m:\u001b[0m\u001b[0;34m\u001b[0m\u001b[0;34m\u001b[0m\u001b[0m\n\u001b[1;32m   2799\u001b[0m                 \u001b[0;32mreturn\u001b[0m \u001b[0mself\u001b[0m\u001b[0;34m.\u001b[0m\u001b[0m_getitem_multilevel\u001b[0m\u001b[0;34m(\u001b[0m\u001b[0mkey\u001b[0m\u001b[0;34m)\u001b[0m\u001b[0;34m\u001b[0m\u001b[0;34m\u001b[0m\u001b[0m\n\u001b[0;32m-> 2800\u001b[0;31m             \u001b[0mindexer\u001b[0m \u001b[0;34m=\u001b[0m \u001b[0mself\u001b[0m\u001b[0;34m.\u001b[0m\u001b[0mcolumns\u001b[0m\u001b[0;34m.\u001b[0m\u001b[0mget_loc\u001b[0m\u001b[0;34m(\u001b[0m\u001b[0mkey\u001b[0m\u001b[0;34m)\u001b[0m\u001b[0;34m\u001b[0m\u001b[0;34m\u001b[0m\u001b[0m\n\u001b[0m\u001b[1;32m   2801\u001b[0m             \u001b[0;32mif\u001b[0m \u001b[0mis_integer\u001b[0m\u001b[0;34m(\u001b[0m\u001b[0mindexer\u001b[0m\u001b[0;34m)\u001b[0m\u001b[0;34m:\u001b[0m\u001b[0;34m\u001b[0m\u001b[0;34m\u001b[0m\u001b[0m\n\u001b[1;32m   2802\u001b[0m                 \u001b[0mindexer\u001b[0m \u001b[0;34m=\u001b[0m \u001b[0;34m[\u001b[0m\u001b[0mindexer\u001b[0m\u001b[0;34m]\u001b[0m\u001b[0;34m\u001b[0m\u001b[0;34m\u001b[0m\u001b[0m\n",
      "\u001b[0;32m~/.local/lib/python3.7/site-packages/pandas/core/indexes/base.py\u001b[0m in \u001b[0;36mget_loc\u001b[0;34m(self, key, method, tolerance)\u001b[0m\n\u001b[1;32m   2646\u001b[0m                 \u001b[0;32mreturn\u001b[0m \u001b[0mself\u001b[0m\u001b[0;34m.\u001b[0m\u001b[0m_engine\u001b[0m\u001b[0;34m.\u001b[0m\u001b[0mget_loc\u001b[0m\u001b[0;34m(\u001b[0m\u001b[0mkey\u001b[0m\u001b[0;34m)\u001b[0m\u001b[0;34m\u001b[0m\u001b[0;34m\u001b[0m\u001b[0m\n\u001b[1;32m   2647\u001b[0m             \u001b[0;32mexcept\u001b[0m \u001b[0mKeyError\u001b[0m\u001b[0;34m:\u001b[0m\u001b[0;34m\u001b[0m\u001b[0;34m\u001b[0m\u001b[0m\n\u001b[0;32m-> 2648\u001b[0;31m                 \u001b[0;32mreturn\u001b[0m \u001b[0mself\u001b[0m\u001b[0;34m.\u001b[0m\u001b[0m_engine\u001b[0m\u001b[0;34m.\u001b[0m\u001b[0mget_loc\u001b[0m\u001b[0;34m(\u001b[0m\u001b[0mself\u001b[0m\u001b[0;34m.\u001b[0m\u001b[0m_maybe_cast_indexer\u001b[0m\u001b[0;34m(\u001b[0m\u001b[0mkey\u001b[0m\u001b[0;34m)\u001b[0m\u001b[0;34m)\u001b[0m\u001b[0;34m\u001b[0m\u001b[0;34m\u001b[0m\u001b[0m\n\u001b[0m\u001b[1;32m   2649\u001b[0m         \u001b[0mindexer\u001b[0m \u001b[0;34m=\u001b[0m \u001b[0mself\u001b[0m\u001b[0;34m.\u001b[0m\u001b[0mget_indexer\u001b[0m\u001b[0;34m(\u001b[0m\u001b[0;34m[\u001b[0m\u001b[0mkey\u001b[0m\u001b[0;34m]\u001b[0m\u001b[0;34m,\u001b[0m \u001b[0mmethod\u001b[0m\u001b[0;34m=\u001b[0m\u001b[0mmethod\u001b[0m\u001b[0;34m,\u001b[0m \u001b[0mtolerance\u001b[0m\u001b[0;34m=\u001b[0m\u001b[0mtolerance\u001b[0m\u001b[0;34m)\u001b[0m\u001b[0;34m\u001b[0m\u001b[0;34m\u001b[0m\u001b[0m\n\u001b[1;32m   2650\u001b[0m         \u001b[0;32mif\u001b[0m \u001b[0mindexer\u001b[0m\u001b[0;34m.\u001b[0m\u001b[0mndim\u001b[0m \u001b[0;34m>\u001b[0m \u001b[0;36m1\u001b[0m \u001b[0;32mor\u001b[0m \u001b[0mindexer\u001b[0m\u001b[0;34m.\u001b[0m\u001b[0msize\u001b[0m \u001b[0;34m>\u001b[0m \u001b[0;36m1\u001b[0m\u001b[0;34m:\u001b[0m\u001b[0;34m\u001b[0m\u001b[0;34m\u001b[0m\u001b[0m\n",
      "\u001b[0;32mpandas/_libs/index.pyx\u001b[0m in \u001b[0;36mpandas._libs.index.IndexEngine.get_loc\u001b[0;34m()\u001b[0m\n",
      "\u001b[0;32mpandas/_libs/index.pyx\u001b[0m in \u001b[0;36mpandas._libs.index.IndexEngine.get_loc\u001b[0;34m()\u001b[0m\n",
      "\u001b[0;32mpandas/_libs/hashtable_class_helper.pxi\u001b[0m in \u001b[0;36mpandas._libs.hashtable.PyObjectHashTable.get_item\u001b[0;34m()\u001b[0m\n",
      "\u001b[0;32mpandas/_libs/hashtable_class_helper.pxi\u001b[0m in \u001b[0;36mpandas._libs.hashtable.PyObjectHashTable.get_item\u001b[0;34m()\u001b[0m\n",
      "\u001b[0;31mKeyError\u001b[0m: 'score'"
     ]
    }
   ],
   "source": [
    "day_1_62[\"score\"]"
   ]
  },
  {
   "cell_type": "code",
   "execution_count": 6,
   "metadata": {},
   "outputs": [],
   "source": [
    "day_1_62.rename(columns={'score ':'score'},inplace=True)"
   ]
  },
  {
   "cell_type": "code",
   "execution_count": 7,
   "metadata": {
    "scrolled": true
   },
   "outputs": [
    {
     "data": {
      "text/plain": [
       "0             0\n",
       "1             0\n",
       "2             0\n",
       "3             0\n",
       "4             0\n",
       "           ... \n",
       "13637573    224\n",
       "13637574    224\n",
       "13637575    224\n",
       "13637576    224\n",
       "13637577    224\n",
       "Name: score, Length: 13637578, dtype: int64"
      ]
     },
     "execution_count": 7,
     "metadata": {},
     "output_type": "execute_result"
    }
   ],
   "source": [
    "day_1_62['score']"
   ]
  },
  {
   "cell_type": "code",
   "execution_count": 8,
   "metadata": {},
   "outputs": [],
   "source": [
    "day_1_62.to_csv(\"/home/shuai/day_1-62.csv\", index = None)"
   ]
  },
  {
   "cell_type": "code",
   "execution_count": 9,
   "metadata": {},
   "outputs": [],
   "source": [
    "aa = pd.read_csv(\"/home/shuai/day_1-62.csv\")"
   ]
  },
  {
   "cell_type": "code",
   "execution_count": 10,
   "metadata": {},
   "outputs": [
    {
     "data": {
      "text/plain": [
       "True"
      ]
     },
     "execution_count": 10,
     "metadata": {},
     "output_type": "execute_result"
    }
   ],
   "source": [
    "day_1_62.equals(aa)"
   ]
  },
  {
   "cell_type": "code",
   "execution_count": 11,
   "metadata": {},
   "outputs": [
    {
     "data": {
      "text/plain": [
       "0             0\n",
       "1             0\n",
       "2             0\n",
       "3             0\n",
       "4             0\n",
       "           ... \n",
       "13637573    224\n",
       "13637574    224\n",
       "13637575    224\n",
       "13637576    224\n",
       "13637577    224\n",
       "Name: score, Length: 13637578, dtype: int64"
      ]
     },
     "execution_count": 11,
     "metadata": {},
     "output_type": "execute_result"
    }
   ],
   "source": [
    "aa[\"score\"]"
   ]
  },
  {
   "cell_type": "code",
   "execution_count": 17,
   "metadata": {},
   "outputs": [
    {
     "name": "stdout",
     "output_type": "stream",
     "text": [
      "<class 'pandas.core.frame.DataFrame'>\n",
      "RangeIndex: 13637578 entries, 0 to 13637577\n",
      "Data columns (total 43 columns):\n",
      " #   Column           Dtype\n",
      "---  ------           -----\n",
      " 0   Done             int64\n",
      " 1   LastPrice        int64\n",
      " 2   BidPrice1        int64\n",
      " 3   BidVolume1       int64\n",
      " 4   AskPrice1        int64\n",
      " 5   AskVolume1       int64\n",
      " 6   BidPrice2        int64\n",
      " 7   BidVolume2       int64\n",
      " 8   AskPrice2        int64\n",
      " 9   AskVolume2       int64\n",
      " 10  BidPrice3        int64\n",
      " 11  BidVolume3       int64\n",
      " 12  AskPrice3        int64\n",
      " 13  AskVolume3       int64\n",
      " 14  BidPrice4        int64\n",
      " 15  BidVolume4       int64\n",
      " 16  AskPrice4        int64\n",
      " 17  AskVolume4       int64\n",
      " 18  BidPrice5        int64\n",
      " 19  BidVolume5       int64\n",
      " 20  AskPrice5        int64\n",
      " 21  AskVolume5       int64\n",
      " 22  Volume           int64\n",
      " 23  HighestPrice     int64\n",
      " 24  LowestPrice      int64\n",
      " 25  TradingDay       int64\n",
      " 26  Target_Num       int64\n",
      " 27  Actual_Num       int64\n",
      " 28  AliveBidPrice1   int64\n",
      " 29  AliveBidVolume1  int64\n",
      " 30  AliveBidPrice2   int64\n",
      " 31  AliveBidVolume2  int64\n",
      " 32  AliveBidPrice3   int64\n",
      " 33  AliveBidVolume3  int64\n",
      " 34  AliveAskPrice1   int64\n",
      " 35  AliveAskVolume1  int64\n",
      " 36  AliveAskPrice2   int64\n",
      " 37  AliveAskVolume2  int64\n",
      " 38  AliveAskPrice3   int64\n",
      " 39  AliveAskVolume3  int64\n",
      " 40  score            int64\n",
      " 41  profit           int64\n",
      " 42  total_profit     int64\n",
      "dtypes: int64(43)\n",
      "memory usage: 4.4 GB\n"
     ]
    }
   ],
   "source": [
    "day_1_62.info()"
   ]
  },
  {
   "cell_type": "code",
   "execution_count": null,
   "metadata": {},
   "outputs": [
    {
     "data": {
      "text/plain": [
       "<matplotlib.axes._subplots.AxesSubplot at 0x7f619a8258d0>"
      ]
     },
     "execution_count": 22,
     "metadata": {},
     "output_type": "execute_result"
    }
   ],
   "source": [
    "day_1_62[day_1_62[\"LastPrice\"]>0].plot()"
   ]
  },
  {
   "cell_type": "code",
   "execution_count": 49,
   "metadata": {},
   "outputs": [
    {
     "data": {
      "text/plain": [
       "<matplotlib.axes._subplots.AxesSubplot at 0x7f8e654fd210>"
      ]
     },
     "execution_count": 49,
     "metadata": {},
     "output_type": "execute_result"
    },
    {
     "data": {
      "image/png": "[encoded data removed]",
      "text/plain": [
       "<Figure size 432x288 with 1 Axes>"
      ]
     },
     "metadata": {
      "needs_background": "light"
     },
     "output_type": "display_data"
    }
   ],
   "source": [
    "day_1_62[day_1_62[\"TradingDay\"] == 33][\"Target_Num\"].plot()"
   ]
  },
  {
   "cell_type": "code",
   "execution_count": null,
   "metadata": {},
   "outputs": [],
   "source": []
  }
 ],
 "metadata": {
  "kernelspec": {
   "display_name": "Python 3",
   "language": "python",
   "name": "python3"
  },
  "language_info": {
   "codemirror_mode": {
    "name": "ipython",
    "version": 3
   },
   "file_extension": ".py",
   "mimetype": "text/x-python",
   "name": "python",
   "nbconvert_exporter": "python",
   "pygments_lexer": "ipython3",
   "version": "3.7.6"
  }
 },
 "nbformat": 4,
 "nbformat_minor": 4
}
